{
 "cells": [
  {
   "cell_type": "code",
   "execution_count": null,
   "id": "db3cf274-6cbf-4c55-a4a0-888ac6e16cea",
   "metadata": {},
   "outputs": [],
   "source": [
    "#programme pour lire un fichier text entier\n",
    "mon_fichier = 'mon_fichier.txt'\n",
    "fichier = open (mon_fichier,mode='r')\n",
    "lecrure = f.read()\n",
    "print(lecture)\n",
    "close(mon_fichier)"
   ]
  },
  {
   "cell_type": "code",
   "execution_count": null,
   "id": "55cabe41-f9e0-4986-a119-357050ea3c76",
   "metadata": {},
   "outputs": [],
   "source": [
    "#programme pour lire les n premieres lignes\n",
    "mon_fichier = 'mon_fichier.txt'\n",
    "n = 5\n",
    "fichier = open(mon_fichier, mode='r')\n",
    "lignes = []\n",
    "for i in range(n):\n",
    "    lignes.append(fichier.readline())\n",
    "fichier.close()  # Fermer le fichier après la lecture\n",
    "\n",
    "print(lignes)\n"
   ]
  },
  {
   "cell_type": "code",
   "execution_count": null,
   "id": "dfcbf898-a932-441c-b2ab-318e310e13c0",
   "metadata": {},
   "outputs": [],
   "source": [
    "#programme pour lire les n derniers lignes\n",
    "mon_fichier = 'mon_fichier.txt'\n",
    "n = 5\n",
    "fichier = open(mon_fichier, mode='r')\n",
    "lignes = fichier.readlines()  # Lire toutes les lignes du fichier\n",
    "fichier.close()  # Fermer le fichier après la lecture\n",
    "\n",
    "# Afficher les n dernières lignes\n",
    "for ligne in lignes[-n:]:\n",
    "    print(ligne, end='')\n"
   ]
  },
  {
   "cell_type": "code",
   "execution_count": null,
   "id": "063a2b00-7355-4bb3-92ce-b434e6f461d2",
   "metadata": {},
   "outputs": [],
   "source": [
    "#programme qui prend un fichier texte en entrée et renvoie le nombre de mots de ce fichier texte.\n",
    "mon_fichier = 'mon_fichier.txt'\n",
    "fichier = open(mon_fichier, mode='r')\n",
    "contenu = fichier.read()\n",
    "fichier.close()  # Fermer le fichier après la lecture\n",
    "\n",
    "nbr_mots = contenu.split()\n",
    "print(len(nbr_mots))  # Afficher le nombre de mots\n"
   ]
  }
 ],
 "metadata": {
  "kernelspec": {
   "display_name": "Python 3 (ipykernel)",
   "language": "python",
   "name": "python3"
  },
  "language_info": {
   "codemirror_mode": {
    "name": "ipython",
    "version": 3
   },
   "file_extension": ".py",
   "mimetype": "text/x-python",
   "name": "python",
   "nbconvert_exporter": "python",
   "pygments_lexer": "ipython3",
   "version": "3.12.4"
  }
 },
 "nbformat": 4,
 "nbformat_minor": 5
}
